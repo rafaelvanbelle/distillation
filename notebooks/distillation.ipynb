{
  "cells": [
    {
      "cell_type": "code",
      "source": [
        "import torch\n",
        "import torchvision\n",
        "import torch.nn as nn\n",
        "from torchvision import transforms\n",
        "import torch.nn.functional as F\n",
        "from torch.utils.data import Dataset, DataLoader\n",
        "from sklearn.model_selection import train_test_split\n",
        "import random\n",
        "import tqdm\n",
        "import PIL\n",
        "import numpy as np"
      ],
      "outputs": [
        {
          "output_type": "stream",
          "name": "stderr",
          "text": "/anaconda/envs/azureml_py38_PT_TF/lib/python3.8/site-packages/tqdm/auto.py:21: TqdmWarning: IProgress not found. Please update jupyter and ipywidgets. See https://ipywidgets.readthedocs.io/en/stable/user_install.html\n  from .autonotebook import tqdm as notebook_tqdm\n"
        }
      ],
      "execution_count": 1,
      "metadata": {
        "gather": {
          "logged": 1685981787355
        }
      }
    },
    {
      "cell_type": "code",
      "source": [
        "drop_rate = 0\n",
        "\n",
        "train_val_test_split = (0.7,0.2,0.1)\n",
        "batch_size = 96\n",
        "num_workers=6\n",
        "drop_rate = 0.23\n",
        "train_dir = '../data/train'\n",
        "epochs = 10\n",
        "lr = 0.001"
      ],
      "outputs": [],
      "execution_count": 2,
      "metadata": {
        "gather": {
          "logged": 1685981787477
        }
      }
    },
    {
      "cell_type": "code",
      "source": [
        "class Teacher(nn.Module):\n",
        "    def __init__(self):\n",
        "        super().__init__()\n",
        "        self.model = torchvision.models.densenet121(weights='DEFAULT')\n",
        "        for params in self.model.parameters():\n",
        "            params.requires_grad_ = False\n",
        "\n",
        "        num_ftrs = self.model.classifier.in_features\n",
        "        self.model.classifier = nn.Sequential(\n",
        "            nn.Linear(num_ftrs, 500),\n",
        "            nn.Linear(500, 2)\n",
        "            )\n",
        "        \n",
        "    def forward(self, x):\n",
        "        x = self.model(x)\n",
        "        return x"
      ],
      "outputs": [],
      "execution_count": 3,
      "metadata": {
        "gather": {
          "logged": 1685981787573
        }
      }
    },
    {
      "cell_type": "code",
      "source": [
        "class Student(nn.Module):\n",
        "\n",
        "    def __init__(self):\n",
        "        super().__init__()\n",
        "\n",
        "        # onvolutional layers (3,16,32)\n",
        "        self.conv1 = nn.Conv2d(in_channels = 3, out_channels = 16, kernel_size=(5, 5), stride=2, padding=1)\n",
        "        self.conv2 = nn.Conv2d(in_channels = 16, out_channels = 32, kernel_size=(5, 5), stride=2, padding=1)\n",
        "        self.conv3 = nn.Conv2d(in_channels = 32, out_channels = 64, kernel_size=(3, 3), padding=1)\n",
        "\n",
        "        # conected layers\n",
        "        self.fc1 = nn.Linear(in_features= 64 * 3 * 3, out_features=500)\n",
        "        self.fc2 = nn.Linear(in_features=500, out_features=50)\n",
        "        self.fc3 = nn.Linear(in_features=50, out_features=2)\n",
        "\n",
        "\n",
        "    def forward(self, x):\n",
        "\n",
        "        x = F.relu(self.conv1(x))\n",
        "        x = F.max_pool2d(x, 2)\n",
        "\n",
        "        x = F.relu(self.conv2(x))\n",
        "        x = F.max_pool2d(x, 2)\n",
        "\n",
        "        x = F.relu(self.conv3(x))\n",
        "        x = F.max_pool2d(x, 2)\n",
        "\n",
        "        x = x.view(x.shape[0], -1)\n",
        "        x = F.relu(self.fc1(x))\n",
        "        x = F.relu(self.fc2(x))\n",
        "        x = self.fc3(x)\n",
        "\n",
        "        return x"
      ],
      "outputs": [],
      "execution_count": 4,
      "metadata": {
        "gather": {
          "logged": 1685981787673
        }
      }
    },
    {
      "cell_type": "code",
      "source": [
        "train_files = random.sample(os.listdir(train_dir),k = 20000)\n",
        "# Only select jpg files\n",
        "train_files = [f for f in train_files if '.jpg' in f]"
      ],
      "outputs": [],
      "execution_count": 5,
      "metadata": {
        "gather": {
          "logged": 1685981788295
        }
      }
    },
    {
      "cell_type": "code",
      "source": [
        "train_transform = transforms.Compose([\n",
        "    transforms.Resize(256),\n",
        "    transforms.ColorJitter(),\n",
        "    transforms.RandomCrop(224),\n",
        "    transforms.RandomHorizontalFlip(),\n",
        "    transforms.Resize((128,128)),\n",
        "    transforms.ToTensor()\n",
        "])\n",
        "\n",
        "val_transform = transforms.Compose([\n",
        "    transforms.Resize((128,128)),\n",
        "    transforms.ToTensor()\n",
        "])"
      ],
      "outputs": [],
      "execution_count": 6,
      "metadata": {
        "gather": {
          "logged": 1685981788441
        }
      }
    },
    {
      "cell_type": "code",
      "source": [
        "# Creating dataset\n",
        "\n",
        "class DogsVsCatsDataset(Dataset):\n",
        "    def __init__(self, file_list, dir, mode='train', transform = val_transform):\n",
        "        self.file_list = file_list\n",
        "        self.dir = dir\n",
        "        self.mode= mode\n",
        "        self.transform = transform\n",
        "            \n",
        "    def __len__(self):\n",
        "        return len(self.file_list)\n",
        "    \n",
        "    def __getitem__(self, idx):\n",
        "        img = PIL.Image.open(os.path.join(self.dir, self.file_list[idx]))\n",
        "        img = self.transform(img)\n",
        "        img = np.array(img)\n",
        "        if 'dog' in self.file_list[idx]:\n",
        "            self.label = 1\n",
        "        else:\n",
        "            self.label = 0\n",
        "        return img.astype('float32'), self.label\n",
        "\n",
        "\n",
        "train_files, test_files = train_test_split(train_files, \n",
        "                                    test_size=train_val_test_split[2], \n",
        "                                    random_state=42\n",
        "                                    )\n",
        "train_files, valid_files = train_test_split(train_files,\n",
        "                                    test_size=train_val_test_split[1]/train_val_test_split[0], \n",
        "                                    random_state=42\n",
        "                                    )\n",
        "\n",
        "TrainDataSet = DogsVsCatsDataset(train_files, dir = train_dir, mode='train', transform = train_transform)\n",
        "TrainDataLoader = DataLoader(TrainDataSet, batch_size = batch_size, shuffle=True, num_workers=num_workers)\n",
        "\n",
        "ValidDataSet = DogsVsCatsDataset(valid_files, dir = train_dir, mode='valid')\n",
        "ValidDataLoader = DataLoader(ValidDataSet, batch_size = batch_size, shuffle=False, num_workers=num_workers)\n",
        "\n",
        "TestDataSet = DogsVsCatsDataset(test_files, dir = train_dir, mode='test')\n",
        "TestDataLoader = DataLoader(TestDataSet, batch_size = batch_size, shuffle=False, num_workers=num_workers)"
      ],
      "outputs": [],
      "execution_count": 7,
      "metadata": {
        "gather": {
          "logged": 1685981788546
        }
      }
    },
    {
      "cell_type": "code",
      "source": [
        "student_model = Student()\n",
        "teacher_model = Teacher()\n",
        "\n",
        "device = 'cuda' if torch.cuda.is_available() else 'cpu'"
      ],
      "outputs": [],
      "execution_count": 8,
      "metadata": {
        "gather": {
          "logged": 1685981788652
        }
      }
    },
    {
      "cell_type": "code",
      "source": [
        "def train(model):\n",
        "\n",
        "    train_loss_list = []\n",
        "    train_acc_list = []\n",
        "    valid_loss_list = []\n",
        "    valid_acc_list = []\n",
        "    test_acc_list = []\n",
        "\n",
        "    for epoch in range(epochs):\n",
        "        print(\"Epoch\",epoch+1,\"/\",epochs)\n",
        "        model.train()\n",
        "        train_loss = 0\n",
        "        train_acc = 0\n",
        "        itr = 1\n",
        "        tot_itr = len(TrainDataLoader)\n",
        "        for samples, labels in tqdm.tqdm(TrainDataLoader, desc = \"Training\", unit = \" Iterations\"):\n",
        "            samples, labels = samples.to(device), labels.to(device)\n",
        "            optimizer.zero_grad()\n",
        "            output = model(samples)\n",
        "            loss = criterion(output, labels)\n",
        "            train_loss += loss.item()\n",
        "            loss.backward()\n",
        "            optimizer.step()\n",
        "            pred = torch.argmax(output, dim=1)\n",
        "            correct = pred.eq(labels)\n",
        "            train_acc+= torch.mean(correct.float())\n",
        "            torch.cuda.empty_cache()\n",
        "            itr += 1\n",
        "            \n",
        "        train_loss_list.append(train_loss/tot_itr)\n",
        "        train_acc_list.append(train_acc.item()/tot_itr)\n",
        "        print(' Total Loss: {:.4f}, Accuracy: {:.1f} %'.format(train_loss, train_acc/tot_itr*100))\n",
        "\n",
        "        model.eval()\n",
        "        valid_loss=0\n",
        "        valid_acc=0\n",
        "        itr=1\n",
        "        tot_itr = len(ValidDataLoader)\n",
        "        for samples, labels in tqdm.tqdm(ValidDataLoader, desc = \"Validating\", unit = \" Iterations\"):\n",
        "            with torch.no_grad():\n",
        "                samples, labels = samples.to(device), labels.to(device)\n",
        "                output = model(samples)\n",
        "                loss = criterion(output, labels)\n",
        "                valid_loss += loss.item()\n",
        "                pred = torch.argmax(output, dim=1)\n",
        "                correct = pred.eq(labels)\n",
        "                valid_acc += torch.mean(correct.float())\n",
        "                torch.cuda.empty_cache()\n",
        "                itr += 1\n",
        "                \n",
        "        valid_loss_list.append(valid_loss/tot_itr)\n",
        "        valid_acc_list.append(valid_acc.item()/tot_itr)\n",
        "        print('-----------------------------> Validation Loss: {:.4f}, Accuracy: {:.1f} %'.format(valid_loss, valid_acc/tot_itr*100))\n"
      ],
      "outputs": [],
      "execution_count": 9,
      "metadata": {
        "gather": {
          "logged": 1685981788774
        }
      }
    },
    {
      "cell_type": "code",
      "source": [
        "criterion = nn.CrossEntropyLoss()\n",
        "optimizer = torch.optim.Adam(teacher_model.parameters(), lr=lr, amsgrad=True)\n",
        "teacher_model = teacher_model.to(device)\n",
        "train(teacher_model)\n"
      ],
      "outputs": [
        {
          "output_type": "stream",
          "name": "stdout",
          "text": "Epoch 1 / 10\n Total Loss: 24.1403, Accuracy: 92.3 %\n-----------------------------> Validation Loss: 8.5310, Accuracy: 93.4 %\nEpoch 2 / 10\n Total Loss: 16.2486, Accuracy: 94.9 %\n-----------------------------> Validation Loss: 7.9996, Accuracy: 94.0 %\nEpoch 3 / 10\n Total Loss: 13.7326, Accuracy: 95.9 %\n-----------------------------> Validation Loss: 7.7569, Accuracy: 94.3 %\nEpoch 4 / 10\n Total Loss: 12.7694, Accuracy: 96.4 %\n-----------------------------> Validation Loss: 7.0898, Accuracy: 94.7 %\nEpoch 5 / 10\n Total Loss: 11.5515, Accuracy: 96.5 %\n-----------------------------> Validation Loss: 9.3706, Accuracy: 93.5 %\nEpoch 6 / 10\n Total Loss: 9.7655, Accuracy: 97.2 %\n-----------------------------> Validation Loss: 9.6928, Accuracy: 93.3 %\nEpoch 7 / 10\n Total Loss: 10.5929, Accuracy: 97.1 %\n-----------------------------> Validation Loss: 7.6148, Accuracy: 93.6 %\nEpoch 8 / 10\n Total Loss: 10.0824, Accuracy: 97.2 %\n-----------------------------> Validation Loss: 6.9528, Accuracy: 94.6 %\nEpoch 9 / 10\n Total Loss: 8.6611, Accuracy: 97.4 %\n-----------------------------> Validation Loss: 5.3385, Accuracy: 95.7 %\nEpoch 10 / 10\n Total Loss: 8.6013, Accuracy: 97.3 %\n-----------------------------> Validation Loss: 7.2053, Accuracy: 94.4 %\n"
        },
        {
          "output_type": "stream",
          "name": "stderr",
          "text": "Training: 100%|██████████| 134/134 [01:37<00:00,  1.38 Iterations/s]\nValidating: 100%|██████████| 54/54 [00:37<00:00,  1.45 Iterations/s]\nTraining: 100%|██████████| 134/134 [01:33<00:00,  1.44 Iterations/s]\nValidating: 100%|██████████| 54/54 [00:36<00:00,  1.48 Iterations/s]\nTraining: 100%|██████████| 134/134 [01:34<00:00,  1.41 Iterations/s]\nValidating: 100%|██████████| 54/54 [00:36<00:00,  1.47 Iterations/s]\nTraining: 100%|██████████| 134/134 [01:33<00:00,  1.44 Iterations/s]\nValidating: 100%|██████████| 54/54 [00:36<00:00,  1.48 Iterations/s]\nTraining: 100%|██████████| 134/134 [01:33<00:00,  1.43 Iterations/s]\nValidating: 100%|██████████| 54/54 [00:36<00:00,  1.48 Iterations/s]\nTraining: 100%|██████████| 134/134 [01:35<00:00,  1.41 Iterations/s]\nValidating: 100%|██████████| 54/54 [00:36<00:00,  1.47 Iterations/s]\nTraining: 100%|██████████| 134/134 [01:33<00:00,  1.43 Iterations/s]\nValidating: 100%|██████████| 54/54 [00:37<00:00,  1.43 Iterations/s]\nTraining: 100%|██████████| 134/134 [01:35<00:00,  1.40 Iterations/s]\nValidating: 100%|██████████| 54/54 [00:36<00:00,  1.49 Iterations/s]\nTraining: 100%|██████████| 134/134 [01:34<00:00,  1.41 Iterations/s]\nValidating: 100%|██████████| 54/54 [00:37<00:00,  1.45 Iterations/s]\nTraining: 100%|██████████| 134/134 [01:28<00:00,  1.51 Iterations/s]\nValidating: 100%|██████████| 54/54 [00:37<00:00,  1.45 Iterations/s]\n"
        }
      ],
      "execution_count": 10,
      "metadata": {
        "gather": {
          "logged": 1685983099699
        }
      }
    },
    {
      "cell_type": "code",
      "source": [
        "criterion = nn.CrossEntropyLoss()\n",
        "optimizer = torch.optim.Adam(student_model.parameters(), lr=lr, amsgrad=True)\n",
        "student_model = student_model.to(device)\n",
        "train(student_model)"
      ],
      "outputs": [
        {
          "output_type": "stream",
          "name": "stdout",
          "text": "Epoch 1 / 10\n Total Loss: 92.6143, Accuracy: 52.1 %\n-----------------------------> Validation Loss: 37.1863, Accuracy: 52.8 %\nEpoch 2 / 10\n Total Loss: 91.8145, Accuracy: 54.4 %\n-----------------------------> Validation Loss: 36.8519, Accuracy: 55.3 %\nEpoch 3 / 10\n Total Loss: 90.5905, Accuracy: 57.6 %\n"
        },
        {
          "output_type": "stream",
          "name": "stderr",
          "text": "Training: 100%|██████████| 134/134 [01:34<00:00,  1.42 Iterations/s]\nValidating: 100%|██████████| 54/54 [00:36<00:00,  1.48 Iterations/s]\nTraining: 100%|██████████| 134/134 [01:30<00:00,  1.49 Iterations/s]\nValidating: 100%|██████████| 54/54 [00:36<00:00,  1.48 Iterations/s]\nTraining: 100%|██████████| 134/134 [01:30<00:00,  1.48 Iterations/s]\nValidating:  41%|████      | 22/54 [00:17<00:17,  1.81 Iterations/s]"
        }
      ],
      "execution_count": 11,
      "metadata": {
        "gather": {
          "logged": 1685980958254
        }
      }
    },
    {
      "cell_type": "code",
      "source": [
        "student_model_distilled = Student()"
      ],
      "outputs": [],
      "execution_count": null,
      "metadata": {
        "gather": {
          "logged": 1685980958263
        }
      }
    },
    {
      "cell_type": "code",
      "source": [
        "class DistillationLoss:\n",
        "\n",
        "    def __init__(self):\n",
        "        self.student_loss = nn.CrossEntropyLoss()\n",
        "        self.distillation_loss = nn.KLDivLoss()\n",
        "        self.temperature = 1\n",
        "        self.alpha = 0.25\n",
        "\n",
        "    def __call__(self, student_logits, student_target_loss, teacher_logits):\n",
        "        distillation_loss = self.distillation_loss(F.log_softmax(student_logits / self.temperature, dim=1), \n",
        "                                                   F.softmax(teacher_logits/self.temperature, dim=1))\n",
        "        loss = (1 - self.alpha) * student_target_loss + self.alpha * distillation_loss\n",
        "        return loss"
      ],
      "outputs": [],
      "execution_count": null,
      "metadata": {
        "gather": {
          "logged": 1685980958272
        }
      }
    },
    {
      "cell_type": "code",
      "source": [
        "criterion = nn.CrossEntropyLoss()\n",
        "ds_loss = DistillationLoss()\n",
        "optimizer = torch.optim.Adam(student_model_distilled.parameters(), lr=lr, amsgrad=True)\n",
        "teacher_model = teacher_model.to(device)\n",
        "student_model_distilled = student_model_distilled.to(device)"
      ],
      "outputs": [],
      "execution_count": null,
      "metadata": {
        "gather": {
          "logged": 1685980958283
        }
      }
    },
    {
      "cell_type": "code",
      "source": [
        "def train_with_distillation(student_model, teacher_model):\n",
        "\n",
        "    train_loss_list = []\n",
        "    train_acc_list = []\n",
        "    valid_loss_list = []\n",
        "    valid_acc_list = []\n",
        "    test_acc_list = []\n",
        "\n",
        "    for epoch in range(epochs):\n",
        "        print(\"Epoch\",epoch+1,\"/\",epochs)\n",
        "        student_model.train()\n",
        "        teacher_model.eval()\n",
        "\n",
        "        train_loss = 0\n",
        "        train_acc = 0\n",
        "        \n",
        "        itr = 1\n",
        "        tot_itr = len(TrainDataLoader)\n",
        "        for samples, labels in tqdm.tqdm(TrainDataLoader, desc = \"Training\", unit = \" Iterations\"):\n",
        "            samples, labels = samples.to(device), labels.to(device)\n",
        "            optimizer.zero_grad()\n",
        "            output_student = student_model(samples)\n",
        "            output_teacher = teacher_model(samples)\n",
        "\n",
        "            student_target_loss = criterion(output_student, labels)\n",
        "            loss = ds_loss(output_student, student_target_loss, output_teacher)\n",
        "\n",
        "            train_loss += loss.item()\n",
        "            loss.backward()\n",
        "            optimizer.step()\n",
        "            pred = torch.argmax(output_student, dim=1)\n",
        "            correct = pred.eq(labels)\n",
        "            train_acc+= torch.mean(correct.float())\n",
        "            torch.cuda.empty_cache()\n",
        "            itr += 1\n",
        "            \n",
        "        train_loss_list.append(train_loss/tot_itr)\n",
        "        train_acc_list.append(train_acc.item()/tot_itr)\n",
        "        print(' Total Loss: {:.4f}, Accuracy: {:.1f} %'.format(train_loss, train_acc/tot_itr*100))\n",
        "\n",
        "        student_model.eval()\n",
        "        valid_loss=0\n",
        "        valid_acc=0\n",
        "        itr=1\n",
        "        tot_itr = len(ValidDataLoader)\n",
        "        for samples, labels in tqdm.tqdm(ValidDataLoader, desc = \"Validating\", unit = \" Iterations\"):\n",
        "            with torch.no_grad():\n",
        "                samples, labels = samples.to(device), labels.to(device)\n",
        "                output = student_model(samples)\n",
        "                loss = criterion(output, labels)\n",
        "                valid_loss += loss.item()\n",
        "                pred = torch.argmax(output, dim=1)\n",
        "                correct = pred.eq(labels)\n",
        "                valid_acc += torch.mean(correct.float())\n",
        "                torch.cuda.empty_cache()\n",
        "                itr += 1\n",
        "                \n",
        "        valid_loss_list.append(valid_loss/tot_itr)\n",
        "        valid_acc_list.append(valid_acc.item()/tot_itr)\n",
        "        print('-----------------------------> Validation Loss: {:.4f}, Accuracy: {:.1f} %'.format(valid_loss, valid_acc/tot_itr*100))\n"
      ],
      "outputs": [],
      "execution_count": null,
      "metadata": {
        "gather": {
          "logged": 1685980958296
        }
      }
    },
    {
      "cell_type": "code",
      "source": [
        "train_with_distillation(student_model=student_model_distilled, teacher_model=teacher_model)"
      ],
      "outputs": [],
      "execution_count": null,
      "metadata": {
        "gather": {
          "logged": 1685980958328
        }
      }
    },
    {
      "cell_type": "code",
      "source": [],
      "outputs": [],
      "execution_count": null,
      "metadata": {}
    }
  ],
  "metadata": {
    "kernelspec": {
      "name": "python38-azureml-pt-tf",
      "language": "python",
      "display_name": "Python 3.8 - Pytorch and Tensorflow"
    },
    "language_info": {
      "name": "python",
      "version": "3.8.5",
      "mimetype": "text/x-python",
      "codemirror_mode": {
        "name": "ipython",
        "version": 3
      },
      "pygments_lexer": "ipython3",
      "nbconvert_exporter": "python",
      "file_extension": ".py"
    },
    "orig_nbformat": 4,
    "microsoft": {
      "ms_spell_check": {
        "ms_spell_check_language": "en"
      },
      "host": {
        "AzureML": {
          "notebookHasBeenCompleted": true
        }
      }
    },
    "kernel_info": {
      "name": "python38-azureml-pt-tf"
    },
    "nteract": {
      "version": "nteract-front-end@1.0.0"
    }
  },
  "nbformat": 4,
  "nbformat_minor": 2
}